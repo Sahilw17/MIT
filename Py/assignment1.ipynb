{
 "cells": [
  {
   "cell_type": "code",
   "execution_count": null,
   "id": "5772fc99",
   "metadata": {},
   "outputs": [],
   "source": []
  },
  {
   "cell_type": "code",
   "execution_count": 1,
   "id": "8b184921",
   "metadata": {},
   "outputs": [
    {
     "name": "stdout",
     "output_type": "stream",
     "text": [
      "sum 30\n",
      "mul 200\n"
     ]
    }
   ],
   "source": [
    "a=10\n",
    "b=20\n",
    "print(\"sum\",a+b)\n",
    "print(\"mul\",a*b)"
   ]
  },
  {
   "cell_type": "code",
   "execution_count": null,
   "id": "19b3aa1b",
   "metadata": {},
   "outputs": [],
   "source": []
  },
  {
   "cell_type": "code",
   "execution_count": 4,
   "id": "a5d5aa7a",
   "metadata": {},
   "outputs": [
    {
     "name": "stdout",
     "output_type": "stream",
     "text": [
      "we are in mit and also in pune\n"
     ]
    }
   ],
   "source": [
    "a=\"we are in mit \"\n",
    "b=\"and also in pune\"\n",
    "c=a+b\n",
    "print(c)"
   ]
  },
  {
   "cell_type": "code",
   "execution_count": 1,
   "id": "4400a3f8",
   "metadata": {},
   "outputs": [
    {
     "name": "stdout",
     "output_type": "stream",
     "text": [
      "{1: 0, 2: 0, 3: 0}\n"
     ]
    }
   ],
   "source": [
    "a=[1,1,1,2,3,1,2,3]\n",
    "h={}\n",
    "for num in a:\n",
    "        h[num]=0\n",
    "print(h)"
   ]
  },
  {
   "cell_type": "code",
   "execution_count": 2,
   "id": "b7fb5c37",
   "metadata": {},
   "outputs": [
    {
     "name": "stdout",
     "output_type": "stream",
     "text": [
      "1/1=  1.0\n",
      "1/2=  0.5\n",
      "1/3=  0.3333333333333333\n",
      "1/4=  0.25\n",
      "1/5=  0.2\n",
      "1/6=  0.16666666666666666\n",
      "1/7=  0.14285714285714285\n",
      "1/8=  0.125\n",
      "1/9=  0.1111111111111111\n"
     ]
    }
   ],
   "source": [
    "for i in range(1,10):\n",
    "    print(f\"1/{i}= \",1/i)\n"
   ]
  },
  {
   "cell_type": "code",
   "execution_count": 3,
   "id": "e4147efd",
   "metadata": {},
   "outputs": [
    {
     "name": "stdout",
     "output_type": "stream",
     "text": [
      "3\n",
      "2\n",
      "1\n",
      "0\n"
     ]
    }
   ],
   "source": [
    "i=int(input(\"Enter the nummber: \"))#i=10\n",
    "while i>=0:\n",
    "    print(i)\n",
    "    i=i-1"
   ]
  },
  {
   "cell_type": "code",
   "execution_count": 6,
   "id": "0fd73425",
   "metadata": {},
   "outputs": [
    {
     "name": "stdout",
     "output_type": "stream",
     "text": [
      "1.Addition\n",
      "2.Substraction\n",
      "3.Multiplication\n",
      "4.Division\n",
      "5.Remainder\n",
      "10+20= 30\n"
     ]
    }
   ],
   "source": [
    "while True:\n",
    "    print(\"1.Addition\\n2.Substraction\\n3.Multiplication\\n4.Division\\n5.Remainder\")\n",
    "    a=int(input(\"Enter a: \"))\n",
    "    b=int(input(\"Enter b: \"))\n",
    "    choice=int(input(\"Enter the choice\"))\n",
    "    if choice==1:\n",
    "        print(f\"{a}+{b}=\",a+b)\n",
    "        break\n",
    "    elif choice==2:\n",
    "        print(\"a-b=\",a-b)\n",
    "        break\n",
    "    elif choice==3:\n",
    "        print(\"a*b=\",a*b)\n",
    "        break\n",
    "    elif(choice==4):\n",
    "        print(\"a/b=\",a/b)\n",
    "        break\n",
    "    elif(choice==5):\n",
    "        print(\"a remainde b=\",a%b)\n",
    "        break\n",
    "    else:\n",
    "        print(\"error\")    "
   ]
  }
 ],
 "metadata": {
  "kernelspec": {
   "display_name": "Python 3",
   "language": "python",
   "name": "python3"
  },
  "language_info": {
   "codemirror_mode": {
    "name": "ipython",
    "version": 3
   },
   "file_extension": ".py",
   "mimetype": "text/x-python",
   "name": "python",
   "nbconvert_exporter": "python",
   "pygments_lexer": "ipython3",
   "version": "3.12.3"
  }
 },
 "nbformat": 4,
 "nbformat_minor": 5
}
