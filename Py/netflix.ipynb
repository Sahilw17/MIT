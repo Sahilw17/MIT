{
 "cells": [
  {
   "cell_type": "markdown",
   "id": "169e338e",
   "metadata": {},
   "source": [
    "<h1>Netflix App</h1>"
   ]
  },
  {
   "cell_type": "code",
   "execution_count": null,
   "id": "a7e03c22",
   "metadata": {},
   "outputs": [
    {
     "ename": "",
     "evalue": "",
     "output_type": "error",
     "traceback": [
      "\u001b[1;31mFailed to start the Kernel. \n",
      "\u001b[1;31mUnable to start Kernel 'Python 3.12.3' due to a timeout waiting for the ports to get used. \n",
      "\u001b[1;31mView Jupyter <a href='command:jupyter.viewOutput'>log</a> for further details."
     ]
    }
   ],
   "source": [
    "user_credential={\n",
    "    \"sahilwaghole\":\"123456\"\n",
    "}"
   ]
  },
  {
   "cell_type": "code",
   "execution_count": 1,
   "id": "754e633a",
   "metadata": {},
   "outputs": [],
   "source": [
    "user_name=input(\"Enter the username: \")\n",
    "password= input(\"Enter the password:\")\n"
   ]
  },
  {
   "cell_type": "code",
   "execution_count": 9,
   "id": "d717a010",
   "metadata": {},
   "outputs": [
    {
     "name": "stdout",
     "output_type": "stream",
     "text": [
      "Welcome to the netflix!!\n",
      "LOgin Successful\n"
     ]
    }
   ],
   "source": [
    "print(\"Welcome to the netflix!!\")\n",
    "\n",
    "for i  in range(1,4):\n",
    "    c_name=input(\"Enter the email or username\")\n",
    "    c_password=input(\"enter the password: \")\n",
    "    if user_name==c_name and password==c_password:\n",
    "        print(\"LOgin Successful\")\n",
    "        break\n",
    "    else:\n",
    "        print(\"login Failed\")\n",
    "        print(\"please try again!!\")"
   ]
  },
  {
   "cell_type": "code",
   "execution_count": 17,
   "id": "ed43eabd",
   "metadata": {},
   "outputs": [
    {
     "name": "stdout",
     "output_type": "stream",
     "text": [
      "Welcome to Netflix!\n",
      "Choose the plan:   \n",
      "1.Basic Plan \n",
      "2.Standard Plan \n",
      "3.Premium plan\n",
      "Yo have choosen Standard plan\n"
     ]
    }
   ],
   "source": [
    "print(\"Welcome to Netflix!\")\n",
    "print(\"Choose the plan:   \")\n",
    "print(\"1.Basic Plan \\n2.Standard Plan \\n3.Premium plan\")\n",
    "plan_choice=int(input(\"Enter the plan you ant to choose: \"))\n",
    "if(plan_choice==1):\n",
    "    print(\"Yo have choosen Basic plan\")\n",
    "elif(plan_choice==2):\n",
    "    print(\"Yo have choosen Standard plan\")\n",
    "elif(plan_choice==3):\n",
    "    print(\"Yo have choosen Premium plan\")\n",
    "else:\n",
    "    print(\"Please choose a plan\")"
   ]
  }
 ],
 "metadata": {
  "kernelspec": {
   "display_name": "Python 3",
   "language": "python",
   "name": "python3"
  },
  "language_info": {
   "codemirror_mode": {
    "name": "ipython",
    "version": 3
   },
   "file_extension": ".py",
   "mimetype": "text/x-python",
   "name": "python",
   "nbconvert_exporter": "python",
   "pygments_lexer": "ipython3",
   "version": "3.12.3"
  }
 },
 "nbformat": 4,
 "nbformat_minor": 5
}
