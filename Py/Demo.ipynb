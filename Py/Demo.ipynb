{
 "cells": [
  {
   "cell_type": "markdown",
   "id": "e2966d41",
   "metadata": {},
   "source": [
    "# Neflix APP"
   ]
  },
  {
   "cell_type": "code",
   "execution_count": 19,
   "id": "40e0d689",
   "metadata": {},
   "outputs": [],
   "source": [
    "user_name = input(\"Enter your name: \")\n",
    "user_password = input(\"Enter your password: \")"
   ]
  },
  {
   "cell_type": "code",
   "execution_count": 31,
   "id": "e763f409",
   "metadata": {},
   "outputs": [
    {
     "name": "stdout",
     "output_type": "stream",
     "text": [
      "Welcome to Netflix Login!\n",
      "Login successful!\n"
     ]
    }
   ],
   "source": [
    "print(\"Welcome to Netflix Login!\")\n",
    "\n",
    "\n",
    "\n",
    "for i in range(1,4):\n",
    "    c_name = input(\"Enter your username: \")\n",
    "    c_password = input(\"Enter your password: \")\n",
    "    if c_name == user_name and c_password == user_password:\n",
    "        print(\"Login successful!\")\n",
    "        break\n",
    "    else:\n",
    "        print(f\"Login failed! Attempt {i} of 3.\")\n",
    "        print(\"If you forgot your password, please reset it.\")\n",
    "        print(\"If you don't have an account, please sign up.\")\n",
    "    \n",
    "\n",
    "\n"
   ]
  },
  {
   "cell_type": "code",
   "execution_count": 33,
   "id": "103b67fa",
   "metadata": {},
   "outputs": [
    {
     "name": "stdout",
     "output_type": "stream",
     "text": [
      "Welcome to Netflix!\n",
      "Choose the a plan that suits you best:\n",
      "1. Basic Plan\n",
      "2. Standard Plan\n",
      "3. Premium Plan\n",
      "You have chosen the Standard Plan.\n"
     ]
    }
   ],
   "source": [
    "print(\"Welcome to Netflix!\")\n",
    "print(\"Choose the a plan that suits you best:\")\n",
    "print(\"1. Basic Plan\")\n",
    "print(\"2. Standard Plan\")\n",
    "print(\"3. Premium Plan\")\n",
    "plan_choice = input(\"Enter the number of your chosen plan: \")\n",
    "if plan_choice == \"1\":\n",
    "    print(\"You have chosen the Basic Plan.\")\n",
    "elif plan_choice == \"2\":\n",
    "    print(\"You have chosen the Standard Plan.\")\n",
    "elif plan_choice == \"3\":\n",
    "    print(\"You have chosen the Premium Plan.\")\n",
    "else:\n",
    "    print(\"Invalid choice. Please try again.\")"
   ]
  },
  {
   "cell_type": "code",
   "execution_count": 27,
   "id": "5363328b",
   "metadata": {},
   "outputs": [
    {
     "name": "stdout",
     "output_type": "stream",
     "text": [
      "Available movies:\n",
      "- Inception\n",
      "- The Matrix\n",
      "- Interstellar\n",
      "- The Dark Knight\n"
     ]
    }
   ],
   "source": [
    "movies = [\"Inception\", \"The Matrix\", \"Interstellar\", \"The Dark Knight\"]\n",
    "print(\"Available movies:\")\n",
    "for movie in movies:\n",
    "    print(f\"- {movie}\")"
   ]
  },
  {
   "cell_type": "code",
   "execution_count": null,
   "id": "45ab13cf",
   "metadata": {},
   "outputs": [],
   "source": [
    "movies = [1, 2, 3, 4, [6,7,8,9], 0, 54]"
   ]
  },
  {
   "cell_type": "code",
   "execution_count": 38,
   "id": "058deb4f",
   "metadata": {},
   "outputs": [
    {
     "data": {
      "text/plain": [
       "54"
      ]
     },
     "execution_count": 38,
     "metadata": {},
     "output_type": "execute_result"
    }
   ],
   "source": [
    "movies[-1]"
   ]
  },
  {
   "cell_type": "code",
   "execution_count": null,
   "id": "09c207e8",
   "metadata": {},
   "outputs": [],
   "source": []
  },
  {
   "cell_type": "code",
   "execution_count": 42,
   "id": "d5a19248",
   "metadata": {},
   "outputs": [],
   "source": [
    "dict = {\n",
    "    \"movie_title\": \"Inception\",\n",
    "    \"imdb_rating\": 8.8,\n",
    "    \"release_year\": 2010,\n",
    "    \"genre\": ['Comedy', 'Action', 'Sci-Fi']\n",
    "}"
   ]
  },
  {
   "cell_type": "code",
   "execution_count": 44,
   "id": "957c4e8f",
   "metadata": {},
   "outputs": [
    {
     "data": {
      "text/plain": [
       "'Action'"
      ]
     },
     "execution_count": 44,
     "metadata": {},
     "output_type": "execute_result"
    }
   ],
   "source": [
    "dict['genre'][1]"
   ]
  },
  {
   "cell_type": "code",
   "execution_count": 39,
   "id": "bcc4ec8c",
   "metadata": {},
   "outputs": [],
   "source": [
    "sets = {1, 2, 3, 4, 5, 5,5,5,5, 6, 7, 8, 9}"
   ]
  },
  {
   "cell_type": "code",
   "execution_count": 40,
   "id": "29b58b4f",
   "metadata": {},
   "outputs": [
    {
     "name": "stdout",
     "output_type": "stream",
     "text": [
      "{1, 2, 3, 4, 5, 6, 7, 8, 9}\n"
     ]
    }
   ],
   "source": [
    "print(sets)"
   ]
  },
  {
   "cell_type": "code",
   "execution_count": null,
   "id": "189b3b44",
   "metadata": {},
   "outputs": [],
   "source": []
  },
  {
   "cell_type": "code",
   "execution_count": null,
   "id": "afa185a2",
   "metadata": {},
   "outputs": [],
   "source": []
  },
  {
   "cell_type": "code",
   "execution_count": null,
   "id": "b1580d84",
   "metadata": {},
   "outputs": [],
   "source": []
  },
  {
   "cell_type": "code",
   "execution_count": 8,
   "id": "49e7be8a",
   "metadata": {},
   "outputs": [],
   "source": [
    "movies = [\n",
    "        {\n",
    "            \"movie_title\": \"The Shawshank Redemption\",\n",
    "            \"description\": \"Two imprisoned men bond over a number of years, finding solace and eventual redemption through acts of common decency.\",\n",
    "            \"genre\": [\"Drama\"],\n",
    "            \"director\": \"Frank Darabont\",\n",
    "            \"cast\": [\"Tim Robbins\", \"Morgan Freeman\", \"Bob Gunton\"],\n",
    "            \"runtime\": \"2h 22m\",\n",
    "            \"release_year\": 1994,\n",
    "            \"rating\": \"R\",\n",
    "            \"imdb_rating\": 9.3,\n",
    "            \"awards\": \"Nominated for 7 Oscars\"\n",
    "        },\n",
    "        {\n",
    "            \"movie_title\": \"Stranger Things\",\n",
    "            \"description\": \"When a young boy vanishes, a small town uncovers a mystery involving secret experiments, terrifying supernatural forces, and one strange little girl.\",\n",
    "            \"genre\": [\"Sci-Fi\", \"Horror\", \"Drama\"],\n",
    "            \"director\": \"The Duffer Brothers\",\n",
    "            \"cast\": [\"Millie Bobby Brown\", \"Finn Wolfhard\", \"Winona Ryder\"],\n",
    "            \"runtime\": \"4 seasons (TV Series)\", # For TV series, runtime can be seasons\n",
    "            \"release_year\": 2016,\n",
    "            \"rating\": \"TV-14\",\n",
    "            \"imdb_rating\": 8.7,\n",
    "            \"awards\": \"Won 7 Emmys\"\n",
    "        },\n",
    "        {\n",
    "            \"movie_title\": \"The Queen's Gambit\",\n",
    "            \"description\": \"Orphaned at 9, chess prodigy Beth Harmon struggles with addiction in a quest to become the greatest chess player in the world.\",\n",
    "            \"genre\": [\"Drama\"],\n",
    "            \"director\": \"Scott Frank\",\n",
    "            \"cast\": [\"Anya Taylor-Joy\", \"Chloe Pirrie\", \"Bill Camp\"],\n",
    "            \"runtime\": \"1 season (TV Mini-Series)\",\n",
    "            \"release_year\": 2020,\n",
    "            \"rating\": \"TV-MA\",\n",
    "            \"imdb_rating\": 8.6,\n",
    "            \"awards\": \"Won 2 Golden Globes\"\n",
    "        },\n",
    "        {\n",
    "            \"movie_title\": \"Extraction\",\n",
    "            \"description\": \"A black-market mercenary who has nothing to lose is hired to rescue the kidnapped son of an imprisoned international crime lord.\",\n",
    "            \"genre\": [\"Action\", \"Thriller\"],\n",
    "            \"director\": \"Sam Hargrave\",\n",
    "            \"cast\": [\"Chris Hemsworth\", \"Golshifteh Farahani\", \"Rudhraksh Jaiswal\"],\n",
    "            \"runtime\": \"1h 56m\",\n",
    "            \"release_year\": 2020,\n",
    "            \"rating\": \"R\",\n",
    "            \"imdb_rating\": 6.7,\n",
    "            \"awards\": \"None listed\"\n",
    "        },\n",
    "        {\n",
    "            \"movie_title\": \"Enola Holmes\",\n",
    "            \"description\": \"While searching for her missing mother, intrepid teen Enola Holmes uses her sleuthing skills to outsmart big brother Sherlock and help a runaway lord.\",\n",
    "            \"genre\": [\"Mystery\", \"Adventure\", \"Family\"],\n",
    "            \"director\": \"Harry Bradbeer\",\n",
    "            \"cast\": [\"Millie Bobby Brown\", \"Henry Cavill\", \"Sam Claflin\"],\n",
    "            \"runtime\": \"2h 3m\",\n",
    "            \"release_year\": 2020,\n",
    "            \"rating\": \"PG-13\",\n",
    "            \"imdb_rating\": 6.6,\n",
    "            \"awards\": \"None listed\"\n",
    "        },\n",
    "        {\n",
    "            \"movie_title\": \"Spenser Confidential\",\n",
    "            \"description\": \"When two Boston police officers are murdered, ex-cop Spenser teams up with his no-nonsense roommate, Hawk, to take down the culprits.\",\n",
    "            \"genre\": [\"Action\", \"Comedy\", \"Crime\"],\n",
    "            \"director\": \"Peter Berg\",\n",
    "            \"cast\": [\"Mark Wahlberg\", \"Winston Duke\", \"Alan Arkin\"],\n",
    "            \"runtime\": \"1h 53m\",\n",
    "            \"release_year\": 2020,\n",
    "            \"rating\": \"R\",\n",
    "            \"imdb_rating\": 6.2,\n",
    "            \"awards\": \"None listed\"\n",
    "        },\n",
    "        {\n",
    "            \"movie_title\": \"Bird Box\",\n",
    "            \"description\": \"Five years after an unseen presence drives most of society to suicide, a mother and her two children make a desperate bid to reach safety.\",\n",
    "            \"genre\": [\"Drama\", \"Horror\", \"Sci-Fi\"],\n",
    "            \"director\": \"Susanne Bier\",\n",
    "            \"cast\": [\"Sandra Bullock\", \"Trevante Rhodes\", \"John Malkovich\"],\n",
    "            \"runtime\": \"2h 4m\",\n",
    "            \"release_year\": 2018,\n",
    "            \"rating\": \"R\",\n",
    "            \"imdb_rating\": 6.6,\n",
    "            \"awards\": \"None listed\"\n",
    "        },\n",
    "        {\n",
    "            \"movie_title\": \"The Old Guard\",\n",
    "            \"description\": \"A covert team of immortal mercenaries is suddenly exposed and must fight to keep their identity a secret just as a new immortal is discovered.\",\n",
    "            \"genre\": [\"Action\", \"Fantasy\"],\n",
    "            \"director\": \"Gina Prince-Bythewood\",\n",
    "            \"cast\": [\"Charlize Theron\", \"Kiki Layne\", \"Matthias Schoenaerts\"],\n",
    "            \"runtime\": \"2h 5m\",\n",
    "            \"release_year\": 2020,\n",
    "            \"rating\": \"R\",\n",
    "            \"imdb_rating\": 6.7,\n",
    "            \"awards\": \"None listed\"\n",
    "        },\n",
    "        {\n",
    "            \"movie_title\": \"Project Power\",\n",
    "            \"description\": \"When a pill that gives its users unpredictable superpowers for five minutes hits the streets of New Orleans, a local cop and a teenage dealer are forced to team up to stop the group responsible for creating it.\",\n",
    "            \"genre\": [\"Action\", \"Crime\", \"Sci-Fi\"],\n",
    "            \"director\": \"Henry Joost, Ariel Schulman\",\n",
    "            \"cast\": [\"Jamie Foxx\", \"Joseph Gordon-Levitt\", \"Dominique Fishback\"],\n",
    "            \"runtime\": \"1h 53m\",\n",
    "            \"release_year\": 2020,\n",
    "            \"rating\": \"R\",\n",
    "            \"imdb_rating\": 6.0,\n",
    "            \"awards\": \"None listed\"\n",
    "        },\n",
    "        {\n",
    "            \"movie_title\": \"Army of the Dead\",\n",
    "            \"description\": \"Following a zombie outbreak in Las Vegas, a group of mercenaries takes the ultimate gamble, venturing into the quarantine zone to pull off the greatest heist ever attempted.\",\n",
    "            \"genre\": [\"Action\", \"Crime\", \"Horror\"],\n",
    "            \"director\": \"Zack Snyder\",\n",
    "            \"cast\": [\"Dave Bautista\", \"Ella Purnell\", \"Ana de la Reguera\"],\n",
    "            \"runtime\": \"2h 28m\",\n",
    "            \"release_year\": 2021,\n",
    "            \"rating\": \"R\",\n",
    "            \"imdb_rating\": 5.8,\n",
    "            \"awards\": \"None listed\"\n",
    "        },\n",
    "        {\n",
    "            \"movie_title\": \"Red Notice\",\n",
    "            \"description\": \"An FBI profiler pursuing the world's most wanted art thief becomes his reluctant partner in crime to catch an even more elusive crook.\",\n",
    "            \"genre\": [\"Action\", \"Comedy\", \"Thriller\"],\n",
    "            \"director\": \"Rawson Marshall Thurber\",\n",
    "            \"cast\": [\"Dwayne Johnson\", \"Ryan Reynolds\", \"Gal Gadot\"],\n",
    "            \"runtime\": \"1h 58m\",\n",
    "            \"release_year\": 2021,\n",
    "            \"rating\": \"PG-13\",\n",
    "            \"imdb_rating\": 6.3,\n",
    "            \"awards\": \"None listed\"\n",
    "        },\n",
    "        {\n",
    "            \"movie_title\": \"Don't Look Up\",\n",
    "            \"description\": \"Two low-level astronomers must go on a giant media tour to warn mankind of an approaching comet that will destroy planet Earth.\",\n",
    "            \"genre\": [\"Comedy\", \"Drama\", \"Sci-Fi\"],\n",
    "            \"director\": \"Adam McKay\",\n",
    "            \"cast\": [\"Leonardo DiCaprio\", \"Jennifer Lawrence\", \"Meryl Streep\"],\n",
    "            \"runtime\": \"2h 25m\",\n",
    "            \"release_year\": 2021,\n",
    "            \"rating\": \"R\",\n",
    "            \"imdb_rating\": 7.2,\n",
    "            \"awards\": \"Nominated for 4 Oscars\"\n",
    "        },\n",
    "        {\n",
    "            \"movie_title\": \"The Irishman\",\n",
    "            \"description\": \"Hitman Frank Sheeran recalls his past ties to the Bufalino crime family and his involvement with the disappearance of union boss Jimmy Hoffa.\",\n",
    "            \"genre\": [\"Biography\", \"Crime\", \"Drama\"],\n",
    "            \"director\": \"Martin Scorsese\",\n",
    "            \"cast\": [\"Robert De Niro\", \"Al Pacino\", \"Joe Pesci\"],\n",
    "            \"runtime\": \"3h 29m\",\n",
    "            \"release_year\": 2019,\n",
    "            \"rating\": \"R\",\n",
    "            \"imdb_rating\": 7.8,\n",
    "            \"awards\": \"Nominated for 10 Oscars\"\n",
    "        },\n",
    "        {\n",
    "            \"movie_title\": \"Marriage Story\",\n",
    "            \"description\": \"A stage director and his actress wife struggle through a grueling, coast-to-coast divorce that pushes them to their personal and creative extremes.\",\n",
    "            \"genre\": [\"Comedy\", \"Drama\", \"Romance\"],\n",
    "            \"director\": \"Noah Baumbach\",\n",
    "            \"cast\": [\"Adam Driver\", \"Scarlett Johansson\", \"Laura Dern\"],\n",
    "            \"runtime\": \"2h 17m\",\n",
    "            \"release_year\": 2019,\n",
    "            \"rating\": \"R\",\n",
    "            \"imdb_rating\": 7.9,\n",
    "            \"awards\": \"Won 1 Oscar\"\n",
    "        },\n",
    "        {\n",
    "            \"movie_title\": \"Roma\",\n",
    "            \"description\": \"A year in the life of a middle-class family's maid in Mexico City in the early 1970s.\",\n",
    "            \"genre\": [\"Drama\"],\n",
    "            \"director\": \"Alfonso Cuarón\",\n",
    "            \"cast\": [\"Yalitza Aparicio\", \"Marina de Tavira\", \"Diego Cortina Autrey\"],\n",
    "            \"runtime\": \"2h 15m\",\n",
    "            \"release_year\": 2018,\n",
    "            \"rating\": \"R\",\n",
    "            \"imdb_rating\": 7.7,\n",
    "            \"awards\": \"Won 3 Oscars\"\n",
    "        },\n",
    "        {\n",
    "            \"movie_title\": \"Klaus\",\n",
    "            \"description\": \"A simple act of kindness always sparks another, even in a frozen, far-off place. When Smeerensburg's new postman, Jesper, befriends toy maker Klaus, their gifts melt an ancient feud and deliver a sleigh full of magical traditions.\",\n",
    "            \"genre\": [\"Animation\", \"Adventure\", \"Comedy\"],\n",
    "            \"director\": \"Sergio Pablos\",\n",
    "            \"cast\": [\"Jason Schwartzman\", \"J.K. Simmons\", \"Rashida Jones\"],\n",
    "            \"runtime\": \"1h 36m\",\n",
    "            \"release_year\": 2019,\n",
    "            \"rating\": \"PG\",\n",
    "            \"imdb_rating\": 8.2,\n",
    "            \"awards\": \"Nominated for 1 Oscar\"\n",
    "        },\n",
    "        {\n",
    "            \"movie_title\": \"Mank\",\n",
    "            \"description\": \"1930s Hollywood is reevaluated through the eyes of scathing social critic and alcoholic screenwriter Herman J. Mankiewicz as he races to finish 'Citizen Kane.'\",\n",
    "            \"genre\": [\"Biography\", \"Drama\", \"History\"],\n",
    "            \"director\": \"David Fincher\",\n",
    "            \"cast\": [\"Gary Oldman\", \"Amanda Seyfried\", \"Lily Collins\"],\n",
    "            \"runtime\": \"2h 11m\",\n",
    "            \"release_year\": 2020,\n",
    "            \"rating\": \"R\",\n",
    "            \"imdb_rating\": 7.1,\n",
    "            \"awards\": \"Won 2 Oscars\"\n",
    "        },\n",
    "        {\n",
    "            \"movie_title\": \"The Two Popes\",\n",
    "            \"description\": \"Behind the Vatican walls, Pope Benedict and the future Pope Francis -- a conservative and a liberal -- find common ground to forge a new path for the Catholic Church.\",\n",
    "            \"genre\": [\"Biography\", \"Comedy\", \"Drama\"],\n",
    "            \"director\": \"Fernando Meirelles\",\n",
    "            \"cast\": [\"Anthony Hopkins\", \"Jonathan Pryce\"],\n",
    "            \"runtime\": \"2h 5m\",\n",
    "            \"release_year\": 2019,\n",
    "            \"rating\": \"PG-13\",\n",
    "            \"imdb_rating\": 7.6,\n",
    "            \"awards\": \"Nominated for 3 Oscars\"\n",
    "        },\n",
    "        {\n",
    "            \"movie_title\": \"I Care a Lot\",\n",
    "            \"description\": \"A crooked legal guardian who drains the savings of her elderly wards meets her match when a woman she tries to swindle turns out to have dangerous connections.\",\n",
    "            \"genre\": [\"Comedy\", \"Crime\", \"Thriller\"],\n",
    "            \"director\": \"J Blakeson\",\n",
    "            \"cast\": [\"Rosamund Pike\", \"Peter Dinklage\", \"Eiza González\"],\n",
    "            \"runtime\": \"1h 58m\",\n",
    "            \"release_year\": 2020,\n",
    "            \"rating\": \"R\",\n",
    "            \"imdb_rating\": 6.4,\n",
    "            \"awards\": \"Won 1 Golden Globe\"\n",
    "        },\n",
    "        {\n",
    "            \"movie_title\": \"The Mitchells vs. the Machines\",\n",
    "            \"description\": \"A quirky, dysfunctional family's road trip is interrupted when they find themselves in the middle of a robot apocalypse and suddenly become humanity's unlikeliest last hope.\",\n",
    "            \"genre\": [\"Animation\", \"Adventure\", \"Comedy\"],\n",
    "            \"director\": \"Michael Rianda, Jeff Rowe\",\n",
    "            \"cast\": [\"Abbi Jacobson\", \"Danny McBride\", \"Maya Rudolph\"],\n",
    "            \"runtime\": \"1h 53m\",\n",
    "            \"release_year\": 2021,\n",
    "            \"rating\": \"PG\",\n",
    "            \"imdb_rating\": 7.6,\n",
    "            \"awards\": \"Nominated for 1 Oscar\"\n",
    "        }\n",
    "    ]"
   ]
  },
  {
   "cell_type": "code",
   "execution_count": 60,
   "id": "446342aa",
   "metadata": {},
   "outputs": [
    {
     "name": "stdout",
     "output_type": "stream",
     "text": [
      "Spenser Confidential\n",
      "Project Power\n",
      "Army of the Dead\n",
      "The Irishman\n",
      "I Care a Lot\n"
     ]
    }
   ],
   "source": [
    "for movie in movies:\n",
    "    if 'Crime' in movie['genre']:\n",
    "        print(movie['movie_title'])"
   ]
  },
  {
   "cell_type": "code",
   "execution_count": 61,
   "id": "5b634a3b",
   "metadata": {},
   "outputs": [
    {
     "name": "stdout",
     "output_type": "stream",
     "text": [
      "['False', 'None', 'True', 'and', 'as', 'assert', 'async', 'await', 'break', 'class', 'continue', 'def', 'del', 'elif', 'else', 'except', 'finally', 'for', 'from', 'global', 'if', 'import', 'in', 'is', 'lambda', 'nonlocal', 'not', 'or', 'pass', 'raise', 'return', 'try', 'while', 'with', 'yield']\n"
     ]
    }
   ],
   "source": [
    "import keyword\n",
    "print(keyword.kwlist)"
   ]
  },
  {
   "cell_type": "code",
   "execution_count": 10,
   "id": "3f2e44f9",
   "metadata": {},
   "outputs": [
    {
     "name": "stdout",
     "output_type": "stream",
     "text": [
      "The Shawshank Redemption\n",
      "Stranger Things\n",
      "The Queen's Gambit\n",
      "Don't Look Up\n",
      "The Irishman\n",
      "Marriage Story\n",
      "Roma\n",
      "Klaus\n",
      "Mank\n",
      "The Two Popes\n",
      "The Mitchells vs. the Machines\n"
     ]
    }
   ],
   "source": [
    "for movie in movies:\n",
    "    if movie['imdb_rating']>=7:\n",
    "        print(movie['movie_title']) "
   ]
  },
  {
   "cell_type": "code",
   "execution_count": null,
   "id": "b0e2b65d",
   "metadata": {},
   "outputs": [
    {
     "ename": "",
     "evalue": "",
     "output_type": "error",
     "traceback": [
      "\u001b[1;31mFailed to start the Kernel. \n",
      "\u001b[1;31mUnable to start Kernel 'Python 3.12.3' due to a timeout waiting for the ports to get used. \n",
      "\u001b[1;31mView Jupyter <a href='command:jupyter.viewOutput'>log</a> for further details."
     ]
    }
   ],
   "source": [
    "movie_by_year={}\n",
    "for movie in movies:\n",
    "    if(movie['release_year'] in movie_by_year):\n",
    "        movie_by_year[movie['release_year']]=[]\n",
    "    \n",
    "    movie_by_year[movie['release_year']].append[movie['movie_title']]\n"
   ]
  },
  {
   "cell_type": "code",
   "execution_count": null,
   "id": "574cb0da",
   "metadata": {},
   "outputs": [],
   "source": []
  },
  {
   "cell_type": "code",
   "execution_count": null,
   "id": "d3bedbae",
   "metadata": {},
   "outputs": [],
   "source": []
  },
  {
   "cell_type": "code",
   "execution_count": null,
   "id": "9f965991",
   "metadata": {},
   "outputs": [],
   "source": []
  },
  {
   "cell_type": "code",
   "execution_count": null,
   "id": "a957c63c",
   "metadata": {},
   "outputs": [],
   "source": []
  },
  {
   "cell_type": "code",
   "execution_count": null,
   "id": "b5586049",
   "metadata": {},
   "outputs": [],
   "source": []
  },
  {
   "cell_type": "code",
   "execution_count": null,
   "id": "f6c39473",
   "metadata": {},
   "outputs": [],
   "source": []
  },
  {
   "cell_type": "code",
   "execution_count": null,
   "id": "5d0df640",
   "metadata": {},
   "outputs": [],
   "source": []
  },
  {
   "cell_type": "code",
   "execution_count": null,
   "id": "aa1cf4da",
   "metadata": {},
   "outputs": [],
   "source": []
  },
  {
   "cell_type": "code",
   "execution_count": null,
   "id": "74372740",
   "metadata": {},
   "outputs": [],
   "source": []
  },
  {
   "cell_type": "code",
   "execution_count": null,
   "id": "9189856f",
   "metadata": {},
   "outputs": [],
   "source": []
  },
  {
   "cell_type": "code",
   "execution_count": null,
   "id": "fe9b21ca",
   "metadata": {},
   "outputs": [],
   "source": []
  },
  {
   "cell_type": "code",
   "execution_count": null,
   "id": "dd121c07",
   "metadata": {},
   "outputs": [],
   "source": []
  },
  {
   "cell_type": "code",
   "execution_count": null,
   "id": "62e5028c",
   "metadata": {},
   "outputs": [],
   "source": []
  },
  {
   "cell_type": "code",
   "execution_count": null,
   "id": "76681f84",
   "metadata": {},
   "outputs": [],
   "source": []
  },
  {
   "cell_type": "code",
   "execution_count": null,
   "id": "5b620cc8",
   "metadata": {},
   "outputs": [],
   "source": []
  },
  {
   "cell_type": "code",
   "execution_count": null,
   "id": "3f6531ee",
   "metadata": {},
   "outputs": [],
   "source": []
  },
  {
   "cell_type": "code",
   "execution_count": null,
   "id": "f4ea7c72",
   "metadata": {},
   "outputs": [],
   "source": []
  },
  {
   "cell_type": "code",
   "execution_count": null,
   "id": "e9776119",
   "metadata": {},
   "outputs": [],
   "source": []
  },
  {
   "cell_type": "code",
   "execution_count": 25,
   "id": "6b1b08bd",
   "metadata": {},
   "outputs": [
    {
     "data": {
      "text/plain": [
       "['The Shawshank Redemption',\n",
       " 'Stranger Things',\n",
       " \"The Queen's Gambit\",\n",
       " \"Don't Look Up\",\n",
       " 'The Irishman',\n",
       " 'Marriage Story',\n",
       " 'Roma',\n",
       " 'Klaus',\n",
       " 'Mank',\n",
       " 'The Two Popes',\n",
       " 'The Mitchells vs. the Machines']"
      ]
     },
     "execution_count": 25,
     "metadata": {},
     "output_type": "execute_result"
    }
   ],
   "source": [
    "h = [movie['movie_title'] for movie in movies if movie[\"imdb_rating\"]>=7]\n",
    "h"
   ]
  },
  {
   "cell_type": "code",
   "execution_count": 26,
   "id": "363a246a",
   "metadata": {},
   "outputs": [
    {
     "name": "stdout",
     "output_type": "stream",
     "text": [
      "['False', 'None', 'True', 'and', 'as', 'assert', 'async', 'await', 'break', 'class', 'continue', 'def', 'del', 'elif', 'else', 'except', 'finally', 'for', 'from', 'global', 'if', 'import', 'in', 'is', 'lambda', 'nonlocal', 'not', 'or', 'pass', 'raise', 'return', 'try', 'while', 'with', 'yield']\n"
     ]
    }
   ],
   "source": [
    "import keyword\n",
    "print(keyword.kwlist)"
   ]
  },
  {
   "cell_type": "code",
   "execution_count": null,
   "id": "2856dee9",
   "metadata": {},
   "outputs": [],
   "source": []
  }
 ],
 "metadata": {
  "kernelspec": {
   "display_name": "Python 3",
   "language": "python",
   "name": "python3"
  },
  "language_info": {
   "codemirror_mode": {
    "name": "ipython",
    "version": 3
   },
   "file_extension": ".py",
   "mimetype": "text/x-python",
   "name": "python",
   "nbconvert_exporter": "python",
   "pygments_lexer": "ipython3",
   "version": "3.12.3"
  }
 },
 "nbformat": 4,
 "nbformat_minor": 5
}
